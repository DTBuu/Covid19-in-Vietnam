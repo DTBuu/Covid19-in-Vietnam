{
 "cells": [
  {
   "cell_type": "code",
   "execution_count": null,
   "metadata": {},
   "outputs": [],
   "source": [
    "import pandas as pd\n",
    "import numpy as np\n",
    "import matplotlib.pyplot as plt\n",
    "from pandas.plotting import autocorrelation_plot\n",
    "from statsmodels.tsa.arima.model import ARIMA\n",
    "from sklearn.metrics import mean_squared_error\n",
    "from math import sqrt\n",
    "from datetime import date, datetime, timedelta"
   ]
  },
  {
   "cell_type": "code",
   "execution_count": null,
   "metadata": {},
   "outputs": [],
   "source": [
    "#\n",
    "data = pd.read_csv(\"https://vnexpress.net/microservice/sheet/type/covid19_2021_by_day\")\n",
    "data = data[[\"day_full\", \"new_cases\"]]"
   ]
  },
  {
   "cell_type": "code",
   "execution_count": null,
   "metadata": {},
   "outputs": [],
   "source": [
    "#\n",
    "data.fillna(0, inplace=True)\n",
    "data[\"day_full\"] = pd.to_datetime(data[\"day_full\"], format=\"%Y/%m/%d\")"
   ]
  },
  {
   "cell_type": "code",
   "execution_count": null,
   "metadata": {},
   "outputs": [],
   "source": [
    "#\n",
    "data = data.to_numpy()\n",
    "series_covid19 = pd.Series(data=data[:, 1], index=data[:, 0])"
   ]
  },
  {
   "cell_type": "code",
   "execution_count": null,
   "metadata": {},
   "outputs": [],
   "source": [
    "# fig = plt.figure(figsize=(18, 9))\n",
    "# autocorrelation_plot(series_covid19)\n",
    "# plt.show()"
   ]
  },
  {
   "cell_type": "code",
   "execution_count": null,
   "metadata": {},
   "outputs": [],
   "source": [
    "#\n",
    "series_covid19.index = series_covid19.index.to_period(\"D\")\n",
    "series_covid19 = series_covid19.astype(float)"
   ]
  },
  {
   "cell_type": "code",
   "execution_count": null,
   "metadata": {},
   "outputs": [],
   "source": [
    "#\n",
    "model = ARIMA(series_covid19, order=(25,1,0))\n",
    "model_fit = model.fit()\n",
    "\n",
    "# # summary of fit model\n",
    "# print(model_fit.summary())\n",
    "# # line plot of residuals\n",
    "# residuals = pd.DataFrame(model_fit.resid)\n",
    "\n",
    "# residuals.plot()\n",
    "# plt.show()"
   ]
  },
  {
   "cell_type": "code",
   "execution_count": null,
   "metadata": {},
   "outputs": [],
   "source": [
    "# # density plot of residuals\n",
    "# residuals.plot(kind='kde')\n",
    "# plt.show()"
   ]
  },
  {
   "cell_type": "code",
   "execution_count": null,
   "metadata": {},
   "outputs": [],
   "source": [
    "# print(residuals.describe())"
   ]
  },
  {
   "cell_type": "code",
   "execution_count": null,
   "metadata": {},
   "outputs": [],
   "source": [
    "# summary stats of residuals"
   ]
  },
  {
   "cell_type": "code",
   "execution_count": null,
   "metadata": {},
   "outputs": [],
   "source": [
    "#\n",
    "today = datetime.utcnow().date()\n",
    "days = timedelta(days=1)\n",
    "yesterday = today - days\n",
    "\n",
    "train = series_covid19[:\"2021-09-30\"].values\n",
    "test = series_covid19[\"2021-10-01\":str(yesterday)].values\n",
    "history = [x for x in train]\n",
    "predictions = list()"
   ]
  },
  {
   "cell_type": "code",
   "execution_count": null,
   "metadata": {},
   "outputs": [],
   "source": [
    "# walk-forward validation\n",
    "for t in range(len(test)):\n",
    "\tmodel = ARIMA(history, order=(30,1,0), )\n",
    "\tmodel_fit = model.fit()\n",
    "\toutput = model_fit.forecast()\n",
    "\ty_hat = output[0]\n",
    "\tpredictions.append(y_hat)\n",
    "\tobs = test[t]\n",
    "\thistory.append(obs)\n",
    "\tprint('predicted=%f, expected=%f' % (y_hat, obs))"
   ]
  },
  {
   "cell_type": "code",
   "execution_count": null,
   "metadata": {},
   "outputs": [],
   "source": [
    "#\n",
    "rmse = sqrt(mean_squared_error(test, predictions))\n",
    "print('Test RMSE: %.3f' % rmse)"
   ]
  },
  {
   "cell_type": "code",
   "execution_count": null,
   "metadata": {},
   "outputs": [],
   "source": [
    "# # plot forecasts against actual outcomes\n",
    "# plt.figure(figsize=(18, 9))\n",
    "# plt.plot(test)\n",
    "# plt.plot(predictions, color='red')\n",
    "# plt.show()"
   ]
  },
  {
   "cell_type": "code",
   "execution_count": null,
   "metadata": {},
   "outputs": [],
   "source": [
    "#\n",
    "predictions = np.array(predictions)"
   ]
  },
  {
   "cell_type": "code",
   "execution_count": null,
   "metadata": {},
   "outputs": [],
   "source": [
    "#\n",
    "my_range = 60 # ADJUST RANGE HERE !!!\n",
    "forecast = model_fit.forecast(steps=my_range)"
   ]
  },
  {
   "cell_type": "code",
   "execution_count": null,
   "metadata": {},
   "outputs": [],
   "source": [
    "#\n",
    "pred_fore = np.concatenate((predictions, forecast[1:]))\n",
    "\n",
    "fromm = pd.to_datetime(\"2021-10-01\", format=\"%Y-%m-%d\")\n",
    "to = yesterday + timedelta(days=my_range-1)\n",
    "date = pd.Series(pd.date_range(fromm, to))\n",
    "\n",
    "data =pd.DataFrame({\"date\": date, \"forecast\": pred_fore})"
   ]
  },
  {
   "cell_type": "code",
   "execution_count": null,
   "metadata": {},
   "outputs": [],
   "source": [
    "#\n",
    "data.to_csv(\"G:/My Drive/Covid19-in-VietNam/created_Covid19-in-VietNam_Forecast.csv\", index=False)"
   ]
  }
 ],
 "metadata": {
  "interpreter": {
   "hash": "c0a65c7804c83d5d29490780502c39d7f89ea76be701bbc396a15b3b8f16e33c"
  },
  "kernelspec": {
   "display_name": "Python 3.9.0 64-bit",
   "name": "python3"
  },
  "language_info": {
   "codemirror_mode": {
    "name": "ipython",
    "version": 3
   },
   "file_extension": ".py",
   "mimetype": "text/x-python",
   "name": "python",
   "nbconvert_exporter": "python",
   "pygments_lexer": "ipython3",
   "version": "3.9.0"
  },
  "orig_nbformat": 4
 },
 "nbformat": 4,
 "nbformat_minor": 2
}
